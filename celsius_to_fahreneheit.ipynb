{
  "nbformat": 4,
  "nbformat_minor": 0,
  "metadata": {
    "colab": {
      "name": "celsius-far.ipynb",
      "provenance": []
    },
    "kernelspec": {
      "name": "python3",
      "display_name": "Python 3"
    },
    "accelerator": "GPU"
  },
  "cells": [
    {
      "cell_type": "markdown",
      "metadata": {
        "id": "qz6uKW_aWVuT",
        "colab_type": "text"
      },
      "source": [
        "# Introduction\n",
        "\n",
        "This codefile is a simple example of a single-layer-single-neuron neural network to predict fahrenheit temparature for a given celsius temperature using a given set of examples."
      ]
    },
    {
      "cell_type": "markdown",
      "metadata": {
        "id": "6bduz2k3WwKs",
        "colab_type": "text"
      },
      "source": [
        "### Imports\n",
        "\n",
        "Tensorflow is imported for the neural network.\n",
        "Numpy is imported to create the data matrices."
      ]
    },
    {
      "cell_type": "code",
      "metadata": {
        "id": "Ldyn3OKMMUY1",
        "colab_type": "code",
        "colab": {}
      },
      "source": [
        "import tensorflow as tf\n",
        "import numpy as np\n",
        "tf.logging.set_verbosity(tf.logging.ERROR)"
      ],
      "execution_count": 0,
      "outputs": []
    },
    {
      "cell_type": "markdown",
      "metadata": {
        "id": "1R-DEGNVW7Jt",
        "colab_type": "text"
      },
      "source": [
        "### Data Matrices\n",
        "\n",
        "Two vectors are declared, celsius input data and fahrenheit output -- these would be used for training."
      ]
    },
    {
      "cell_type": "code",
      "metadata": {
        "id": "-zj_mOeDNDuZ",
        "colab_type": "code",
        "colab": {}
      },
      "source": [
        "celsius_array = np.array([-40, -10, 0, 8, 15, 22, 38], dtype=float)\n",
        "far_array = np.array([-40, 14, 32, 46, 59, 72, 100], dtype=float)"
      ],
      "execution_count": 0,
      "outputs": []
    },
    {
      "cell_type": "markdown",
      "metadata": {
        "id": "jFOOO603XHI2",
        "colab_type": "text"
      },
      "source": [
        "### Layers\n",
        "\n",
        "A single layer is created with one neuron (```unit=1```) and a single input, the celsius temperature, (```input_shape-[1]```)."
      ]
    },
    {
      "cell_type": "code",
      "metadata": {
        "id": "lU0D1Z4aN_Cr",
        "colab_type": "code",
        "colab": {}
      },
      "source": [
        "layer_0 = tf.keras.layers.Dense(units = 1, input_shape=[1])"
      ],
      "execution_count": 0,
      "outputs": []
    },
    {
      "cell_type": "markdown",
      "metadata": {
        "id": "ARFoT8SYXYEj",
        "colab_type": "text"
      },
      "source": [
        "### Model\n",
        "\n",
        "Our model, as said earlier, would be a single layer model, which is created using ```keras```, a high-level neural net API available in TensorFlow."
      ]
    },
    {
      "cell_type": "code",
      "metadata": {
        "id": "RGhxRtmGPkBi",
        "colab_type": "code",
        "colab": {}
      },
      "source": [
        "model = tf.keras.Sequential([layer_0])"
      ],
      "execution_count": 0,
      "outputs": []
    },
    {
      "cell_type": "markdown",
      "metadata": {
        "id": "GPL-VJadXogl",
        "colab_type": "text"
      },
      "source": [
        "### Model Compilation\n",
        "\n",
        "Our model is compiled, with two specifications:\n",
        "- **loss** : we choose ```mean_squared_error``` here\n",
        "- **optimizer** : the ```Adam``` optimizer is used."
      ]
    },
    {
      "cell_type": "code",
      "metadata": {
        "id": "RjmYZIwAQWTP",
        "colab_type": "code",
        "colab": {}
      },
      "source": [
        "model.compile(loss='mean_squared_error', optimizer=tf.keras.optimizers.Adam(0.1))"
      ],
      "execution_count": 0,
      "outputs": []
    },
    {
      "cell_type": "markdown",
      "metadata": {
        "id": "Fxq5cqLRYGfp",
        "colab_type": "text"
      },
      "source": [
        "### Training\n",
        "\n",
        "Created model is trained and requires the specification of input and label along with the number of epochs. A ```history``` object is created which can be used to access traning data details."
      ]
    },
    {
      "cell_type": "code",
      "metadata": {
        "id": "GVuTtqiNQ6Rg",
        "colab_type": "code",
        "colab": {}
      },
      "source": [
        "history=model.fit(celsius_array,far_array, epochs=500, verbose=False)\n",
        "print(\"Finished Training\")"
      ],
      "execution_count": 0,
      "outputs": []
    },
    {
      "cell_type": "markdown",
      "metadata": {
        "id": "yJVAzxvdYaqC",
        "colab_type": "text"
      },
      "source": [
        "### Training Visualization\n",
        "Loss minimization over epochs is visualised in the following code segment."
      ]
    },
    {
      "cell_type": "code",
      "metadata": {
        "id": "0VANCuDtSE4-",
        "colab_type": "code",
        "colab": {
          "base_uri": "https://localhost:8080/",
          "height": 300
        },
        "outputId": "55cf332c-71a1-49be-d7e2-b93087565bc9"
      },
      "source": [
        "import matplotlib.pyplot as plt\n",
        "plt.xlabel(\"Epoch number\")\n",
        "plt.ylabel(\"Loss magnitude\")\n",
        "plt.plot(history.history['loss'])"
      ],
      "execution_count": 13,
      "outputs": [
        {
          "output_type": "execute_result",
          "data": {
            "text/plain": [
              "[<matplotlib.lines.Line2D at 0x7ff198172ef0>]"
            ]
          },
          "metadata": {
            "tags": []
          },
          "execution_count": 13
        },
        {
          "output_type": "display_data",
          "data": {
            "image/png": "[encoded data removed]",
            "text/plain": [
              "<Figure size 432x288 with 1 Axes>"
            ]
          },
          "metadata": {
            "tags": []
          }
        }
      ]
    },
    {
      "cell_type": "markdown",
      "metadata": {
        "id": "rZlYxVdGYqHj",
        "colab_type": "text"
      },
      "source": [
        "### Prediction\n",
        "\n",
        "```model.predict``` is used to pass a celsius temperature and the resulting fahrenheit temperature is printed."
      ]
    },
    {
      "cell_type": "code",
      "metadata": {
        "id": "1oScdW08SpQW",
        "colab_type": "code",
        "colab": {
          "base_uri": "https://localhost:8080/",
          "height": 34
        },
        "outputId": "b1785699-3060-42bb-878a-185d84bd99ff"
      },
      "source": [
        "print(model.predict([100.0]))"
      ],
      "execution_count": 14,
      "outputs": [
        {
          "output_type": "stream",
          "text": [
            "[[211.74384]]\n"
          ],
          "name": "stdout"
        }
      ]
    },
    {
      "cell_type": "markdown",
      "metadata": {
        "id": "BnbzTBlPYwKX",
        "colab_type": "text"
      },
      "source": [
        "### Internal Weights\n",
        "\n",
        "Internal weights of our single neuron are printed, which match the empirical formula for C to F conversion."
      ]
    },
    {
      "cell_type": "code",
      "metadata": {
        "id": "h2FFPTURTFFw",
        "colab_type": "code",
        "colab": {
          "base_uri": "https://localhost:8080/",
          "height": 34
        },
        "outputId": "1f9787d9-11c4-4d62-b3d4-1fabb7678490"
      },
      "source": [
        "print(layer_0.get_weights())"
      ],
      "execution_count": 15,
      "outputs": [
        {
          "output_type": "stream",
          "text": [
            "[array([[1.7981504]], dtype=float32), array([31.92879], dtype=float32)]\n"
          ],
          "name": "stdout"
        }
      ]
    }
  ]
}