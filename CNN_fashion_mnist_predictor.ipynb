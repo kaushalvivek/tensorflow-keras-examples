{
  "nbformat": 4,
  "nbformat_minor": 0,
  "metadata": {
    "colab": {
      "name": "CNN_fashion_mnist_predictor.ipynb",
      "provenance": [],
      "collapsed_sections": []
    },
    "kernelspec": {
      "name": "python3",
      "display_name": "Python 3"
    },
    "accelerator": "GPU"
  },
  "cells": [
    {
      "cell_type": "markdown",
      "metadata": {
        "id": "GOtkVTX9qPBV",
        "colab_type": "text"
      },
      "source": [
        "# Introduction\n",
        "\n",
        "Here in this code, we'll train a Convolutional Neural Net (CNN) model to identify items of clothing in the ```fashion_mnist``` dataset.\n",
        "\n",
        "## Imports"
      ]
    },
    {
      "cell_type": "code",
      "metadata": {
        "id": "_rOQD2zjo4Ts",
        "colab_type": "code",
        "colab": {}
      },
      "source": [
        "from __future__ import absolute_import, division, print_function, unicode_literals\n",
        "import tensorflow as tf\n",
        "\n",
        "import tensorflow_datasets as tfds\n",
        "tfds.disable_progress_bar()\n",
        "\n",
        "import math\n",
        "import numpy as np\n",
        "import matplotlib.pyplot as plt\n",
        "\n",
        "import logging\n",
        "logger = tf.get_logger()\n",
        "logger.setLevel(logging.ERROR)"
      ],
      "execution_count": 0,
      "outputs": []
    },
    {
      "cell_type": "markdown",
      "metadata": {
        "id": "VHUgtFFNqTK5",
        "colab_type": "text"
      },
      "source": [
        "# Dataset Import\n",
        "\n",
        "the ```fashion_mnist``` dataset is used."
      ]
    },
    {
      "cell_type": "code",
      "metadata": {
        "id": "eJbmh8szo_N2",
        "colab_type": "code",
        "colab": {
          "base_uri": "https://localhost:8080/",
          "height": 51
        },
        "outputId": "5927d9ff-811c-4222-d301-49dd2b190471"
      },
      "source": [
        "dataset, metadata = tfds.load('fashion_mnist', as_supervised=True, with_info=True)\n",
        "train_dataset, test_dataset = dataset['train'], dataset['test']"
      ],
      "execution_count": 2,
      "outputs": [
        {
          "output_type": "stream",
          "text": [
            "\u001b[1mDownloading and preparing dataset fashion_mnist (29.45 MiB) to /root/tensorflow_datasets/fashion_mnist/1.0.0...\u001b[0m\n",
            "\u001b[1mDataset fashion_mnist downloaded and prepared to /root/tensorflow_datasets/fashion_mnist/1.0.0. Subsequent calls will reuse this data.\u001b[0m\n"
          ],
          "name": "stdout"
        }
      ]
    },
    {
      "cell_type": "markdown",
      "metadata": {
        "id": "2FlO36X0qYKD",
        "colab_type": "text"
      },
      "source": [
        "# Labels\n",
        "\n",
        "Labels for classification decleared in a list. Each of these labels represent an item of clothing which is a part of the ```fashion_mnist``` dataset."
      ]
    },
    {
      "cell_type": "code",
      "metadata": {
        "id": "o41_UCmcpRyz",
        "colab_type": "code",
        "colab": {}
      },
      "source": [
        "class_names = ['T-shirt/top', 'Trouser', 'Pullover', 'Dress', 'Coat',\n",
        "               'Sandal',      'Shirt',   'Sneaker',  'Bag',   'Ankle boot']"
      ],
      "execution_count": 0,
      "outputs": []
    },
    {
      "cell_type": "markdown",
      "metadata": {
        "id": "otAPBGbwrLc8",
        "colab_type": "text"
      },
      "source": [
        "Dataset split into training and testing examples."
      ]
    },
    {
      "cell_type": "code",
      "metadata": {
        "id": "aQourGQKpWgD",
        "colab_type": "code",
        "colab": {
          "base_uri": "https://localhost:8080/",
          "height": 51
        },
        "outputId": "a59fecfb-0ed8-4467-faa1-6c1020725cfa"
      },
      "source": [
        "num_train_examples = metadata.splits['train'].num_examples\n",
        "num_test_examples = metadata.splits['test'].num_examples\n",
        "print(\"Number of training examples: {}\".format(num_train_examples))\n",
        "print(\"Number of test examples:     {}\".format(num_test_examples))"
      ],
      "execution_count": 4,
      "outputs": [
        {
          "output_type": "stream",
          "text": [
            "Number of training examples: 60000\n",
            "Number of test examples:     10000\n"
          ],
          "name": "stdout"
        }
      ]
    },
    {
      "cell_type": "markdown",
      "metadata": {
        "id": "8XeSQWQarUS4",
        "colab_type": "text"
      },
      "source": [
        "Normalization of datapoints before feeding to the model.\n"
      ]
    },
    {
      "cell_type": "code",
      "metadata": {
        "id": "HmuBG7TdpY9M",
        "colab_type": "code",
        "colab": {}
      },
      "source": [
        "def normalize(images, labels):\n",
        "  images = tf.cast(images, tf.float32)\n",
        "  images /= 255\n",
        "  return images, labels\n",
        "\n",
        "train_dataset =  train_dataset.map(normalize)\n",
        "test_dataset  =  test_dataset.map(normalize)"
      ],
      "execution_count": 0,
      "outputs": []
    },
    {
      "cell_type": "markdown",
      "metadata": {
        "id": "ldP60uf1vWxm",
        "colab_type": "text"
      },
      "source": [
        "# Model\n",
        "\n",
        "Our model comprises of the following layers:\n",
        "- first convolution layer\n",
        "- first maxpooling layer\n",
        "- second convolution layer\n",
        "- second maxpooling layer\n",
        "- flattenning layer\n",
        "- dense neural net -- 128 neurons\n",
        "- output layer -- with softmax activation"
      ]
    },
    {
      "cell_type": "code",
      "metadata": {
        "id": "k7VfBpMNpmXS",
        "colab_type": "code",
        "colab": {}
      },
      "source": [
        "model = tf.keras.Sequential([\n",
        "    tf.keras.layers.Conv2D(32, (3,3), padding='same', activation=tf.nn.relu,\n",
        "                           input_shape=(28, 28, 1)),\n",
        "    tf.keras.layers.MaxPooling2D((2, 2), strides=2),\n",
        "    tf.keras.layers.Conv2D(64, (3,3), padding='same', activation=tf.nn.relu),\n",
        "    tf.keras.layers.MaxPooling2D((2, 2), strides=2),\n",
        "    tf.keras.layers.Flatten(),\n",
        "    tf.keras.layers.Dense(128, activation=tf.nn.relu),\n",
        "    tf.keras.layers.Dense(10,  activation=tf.nn.softmax)\n",
        "])"
      ],
      "execution_count": 0,
      "outputs": []
    },
    {
      "cell_type": "markdown",
      "metadata": {
        "id": "sXPVR9ahv3sf",
        "colab_type": "text"
      },
      "source": [
        "# Compilation\n",
        "\n",
        "Optimizer : ```adam```  \n",
        "Loss : ```sparse_categorical_crosssentropy```  \n",
        "Metrics : ```accuracy```"
      ]
    },
    {
      "cell_type": "code",
      "metadata": {
        "id": "8uwWKKUwp5Do",
        "colab_type": "code",
        "colab": {}
      },
      "source": [
        "model.compile(optimizer='adam',\n",
        "              loss='sparse_categorical_crossentropy',\n",
        "              metrics=['accuracy'])"
      ],
      "execution_count": 0,
      "outputs": []
    },
    {
      "cell_type": "code",
      "metadata": {
        "id": "eT_atta1p61w",
        "colab_type": "code",
        "colab": {}
      },
      "source": [
        "BATCH_SIZE = 32\n",
        "train_dataset = train_dataset.repeat().shuffle(num_train_examples).batch(BATCH_SIZE)\n",
        "test_dataset = test_dataset.batch(BATCH_SIZE)"
      ],
      "execution_count": 0,
      "outputs": []
    },
    {
      "cell_type": "markdown",
      "metadata": {
        "id": "DVQQ5VGdwJTy",
        "colab_type": "text"
      },
      "source": [
        "## Traning Model"
      ]
    },
    {
      "cell_type": "code",
      "metadata": {
        "id": "-i_zc7Kdp8jf",
        "colab_type": "code",
        "colab": {
          "base_uri": "https://localhost:8080/",
          "height": 391
        },
        "outputId": "b9fa23e1-f405-41af-dd55-a92e4c2f835a"
      },
      "source": [
        "model.fit(train_dataset, epochs=10, steps_per_epoch=math.ceil(num_train_examples/BATCH_SIZE))"
      ],
      "execution_count": 11,
      "outputs": [
        {
          "output_type": "stream",
          "text": [
            "Train on 1875 steps\n",
            "Epoch 1/10\n",
            "1875/1875 [==============================] - 54s 29ms/step - loss: 0.4040 - acc: 0.8529\n",
            "Epoch 2/10\n",
            "1875/1875 [==============================] - 32s 17ms/step - loss: 0.2591 - acc: 0.9066\n",
            "Epoch 3/10\n",
            "1875/1875 [==============================] - 31s 16ms/step - loss: 0.2135 - acc: 0.9202\n",
            "Epoch 4/10\n",
            "1875/1875 [==============================] - 33s 17ms/step - loss: 0.1877 - acc: 0.9290\n",
            "Epoch 5/10\n",
            "1875/1875 [==============================] - 34s 18ms/step - loss: 0.1573 - acc: 0.9416\n",
            "Epoch 6/10\n",
            "1875/1875 [==============================] - 31s 16ms/step - loss: 0.1336 - acc: 0.9506\n",
            "Epoch 7/10\n",
            "1875/1875 [==============================] - 31s 17ms/step - loss: 0.1120 - acc: 0.9585\n",
            "Epoch 8/10\n",
            "1875/1875 [==============================] - 31s 16ms/step - loss: 0.0920 - acc: 0.9661\n",
            "Epoch 9/10\n",
            "1875/1875 [==============================] - 31s 17ms/step - loss: 0.0773 - acc: 0.9712\n",
            "Epoch 10/10\n",
            "1875/1875 [==============================] - 30s 16ms/step - loss: 0.0674 - acc: 0.9755\n"
          ],
          "name": "stdout"
        },
        {
          "output_type": "execute_result",
          "data": {
            "text/plain": [
              "<tensorflow.python.keras.callbacks.History at 0x7faeab0f5f60>"
            ]
          },
          "metadata": {
            "tags": []
          },
          "execution_count": 11
        }
      ]
    },
    {
      "cell_type": "markdown",
      "metadata": {
        "id": "PTJYpaL11JGk",
        "colab_type": "text"
      },
      "source": [
        "Accuracy testing on test dataset:"
      ]
    },
    {
      "cell_type": "code",
      "metadata": {
        "id": "cxcffOgZp924",
        "colab_type": "code",
        "colab": {
          "base_uri": "https://localhost:8080/",
          "height": 51
        },
        "outputId": "7134de6a-ebff-4f61-d71f-08821d66551d"
      },
      "source": [
        "test_loss, test_accuracy = model.evaluate(test_dataset, steps=math.ceil(num_test_examples/32))\n",
        "print('Accuracy on test dataset:', test_accuracy)"
      ],
      "execution_count": 12,
      "outputs": [
        {
          "output_type": "stream",
          "text": [
            "313/313 [==============================] - 4s 13ms/step - loss: 0.3326 - acc: 0.9175\n",
            "Accuracy on test dataset: 0.9175\n"
          ],
          "name": "stdout"
        }
      ]
    }
  ]
}